{
  "nbformat": 4,
  "nbformat_minor": 0,
  "metadata": {
    "kernelspec": {
      "display_name": "Python 3",
      "language": "python",
      "name": "python3"
    },
    "language_info": {
      "codemirror_mode": {
        "name": "ipython",
        "version": 3
      },
      "file_extension": ".py",
      "mimetype": "text/x-python",
      "name": "python",
      "nbconvert_exporter": "python",
      "pygments_lexer": "ipython3",
      "version": "3.7.1"
    },
    "colab": {
      "name": "analise_a2.ipynb",
      "provenance": [],
      "collapsed_sections": []
    }
  },
  "cells": [
    {
      "cell_type": "code",
      "metadata": {
        "id": "1H9SFbVHBLCo",
        "colab": {
          "base_uri": "https://localhost:8080/"
        },
        "outputId": "f727e54e-4861-41a0-8bac-12630f0c0926"
      },
      "source": [
        "import numpy as np\n",
        "import pandas as pd\n",
        "import matplotlib.pyplot as plt\n",
        "import seaborn as sns\n",
        "import matplotlib as mpl\n",
        "from sklearn.linear_model import LinearRegression\n",
        "from sklearn.metrics import mean_absolute_error as mae\n",
        "from sklearn.metrics import r2_score as r2\n",
        "import statsmodels.api as sm\n",
        "\n",
        "mpl.rcParams['figure.figsize'] = (10,7)\n",
        "plt.style.use('ggplot')"
      ],
      "execution_count": 1,
      "outputs": [
        {
          "output_type": "stream",
          "text": [
            "/usr/local/lib/python3.7/dist-packages/statsmodels/tools/_testing.py:19: FutureWarning: pandas.util.testing is deprecated. Use the functions in the public API at pandas.testing instead.\n",
            "  import pandas.util.testing as tm\n"
          ],
          "name": "stderr"
        }
      ]
    },
    {
      "cell_type": "code",
      "metadata": {
        "id": "7LM9T2KRBLED"
      },
      "source": [
        "data_a2 = pd.read_csv('dados_a2.csv')\n",
        "new_names = {'vt_mV':'$V_t (mV)$' , 'deltat_c': '$\\Delta T (^oC)$' ,\n",
        "             'i_ma_taumen': '$I_1 (mA)$' , 'v_mv_taumen': '$V_1 (mV)$',\n",
        "            'i_ma_taumen2': '$I_2 (mA)$' , 'v_mv_taumen2': '$V_2 (mV)$',\n",
        "            'i_ma_tdim': '$I_3 (mA)$' , 'v_mv_tdim': '$V_3 (mV)$',}"
      ],
      "execution_count": null,
      "outputs": []
    },
    {
      "cell_type": "markdown",
      "metadata": {
        "id": "XYQMQT_yBLEP"
      },
      "source": [
        "# Dados da Primeira Parte\n",
        "\n",
        "Nos dados abaixo temos dois tipos de medida, de corrente em mA e de tensão em mV. Estas medidas foram feitas em três sets, dois com a temperatura aumentando (1 e 2) e um com a temperatura diminuindo (3). \n",
        "\n",
        "Em todos os casos a temperatura foi medida através de um termopar que indica a variação de 10 ºC a cada 0,4 mV de variação."
      ]
    },
    {
      "cell_type": "code",
      "metadata": {
        "colab": {
          "base_uri": "https://localhost:8080/",
          "height": 551
        },
        "id": "Hvmbxah7BLEU",
        "outputId": "1d01ad78-cc5a-4641-ee54-7bb05bfccab5"
      },
      "source": [
        "#Renomeando as colunas para serem mais legíveis\n",
        "data_a2.rename(columns=new_names,inplace= True)\n",
        "data_a2"
      ],
      "execution_count": null,
      "outputs": [
        {
          "output_type": "execute_result",
          "data": {
            "text/html": [
              "<div>\n",
              "<style scoped>\n",
              "    .dataframe tbody tr th:only-of-type {\n",
              "        vertical-align: middle;\n",
              "    }\n",
              "\n",
              "    .dataframe tbody tr th {\n",
              "        vertical-align: top;\n",
              "    }\n",
              "\n",
              "    .dataframe thead th {\n",
              "        text-align: right;\n",
              "    }\n",
              "</style>\n",
              "<table border=\"1\" class=\"dataframe\">\n",
              "  <thead>\n",
              "    <tr style=\"text-align: right;\">\n",
              "      <th></th>\n",
              "      <th>$V_t (mV)$</th>\n",
              "      <th>$\\Delta T (^oC)$</th>\n",
              "      <th>$I_1 (mA)$</th>\n",
              "      <th>$V_1 (mV)$</th>\n",
              "      <th>$I_2 (mA)$</th>\n",
              "      <th>$V_2 (mV)$</th>\n",
              "      <th>$I_3 (mA)$</th>\n",
              "      <th>$V_3 (mV)$</th>\n",
              "    </tr>\n",
              "  </thead>\n",
              "  <tbody>\n",
              "    <tr>\n",
              "      <th>0</th>\n",
              "      <td>0.0</td>\n",
              "      <td>0</td>\n",
              "      <td>181.8</td>\n",
              "      <td>222.6</td>\n",
              "      <td>182.2</td>\n",
              "      <td>223.9</td>\n",
              "      <td>182.3</td>\n",
              "      <td>226.7</td>\n",
              "    </tr>\n",
              "    <tr>\n",
              "      <th>1</th>\n",
              "      <td>0.4</td>\n",
              "      <td>10</td>\n",
              "      <td>181.8</td>\n",
              "      <td>231.7</td>\n",
              "      <td>182.1</td>\n",
              "      <td>232.6</td>\n",
              "      <td>182.2</td>\n",
              "      <td>234.1</td>\n",
              "    </tr>\n",
              "    <tr>\n",
              "      <th>2</th>\n",
              "      <td>0.8</td>\n",
              "      <td>20</td>\n",
              "      <td>181.8</td>\n",
              "      <td>239.5</td>\n",
              "      <td>182.1</td>\n",
              "      <td>240.6</td>\n",
              "      <td>182.1</td>\n",
              "      <td>242.7</td>\n",
              "    </tr>\n",
              "    <tr>\n",
              "      <th>3</th>\n",
              "      <td>1.2</td>\n",
              "      <td>30</td>\n",
              "      <td>181.8</td>\n",
              "      <td>247.6</td>\n",
              "      <td>182.1</td>\n",
              "      <td>248.8</td>\n",
              "      <td>182.0</td>\n",
              "      <td>250.7</td>\n",
              "    </tr>\n",
              "    <tr>\n",
              "      <th>4</th>\n",
              "      <td>1.6</td>\n",
              "      <td>40</td>\n",
              "      <td>181.7</td>\n",
              "      <td>256.1</td>\n",
              "      <td>182.0</td>\n",
              "      <td>257.3</td>\n",
              "      <td>182.0</td>\n",
              "      <td>259.0</td>\n",
              "    </tr>\n",
              "    <tr>\n",
              "      <th>5</th>\n",
              "      <td>2.0</td>\n",
              "      <td>50</td>\n",
              "      <td>181.7</td>\n",
              "      <td>263.8</td>\n",
              "      <td>182.0</td>\n",
              "      <td>264.6</td>\n",
              "      <td>181.9</td>\n",
              "      <td>266.6</td>\n",
              "    </tr>\n",
              "    <tr>\n",
              "      <th>6</th>\n",
              "      <td>2.4</td>\n",
              "      <td>60</td>\n",
              "      <td>181.6</td>\n",
              "      <td>272.2</td>\n",
              "      <td>181.9</td>\n",
              "      <td>272.4</td>\n",
              "      <td>181.8</td>\n",
              "      <td>274.2</td>\n",
              "    </tr>\n",
              "    <tr>\n",
              "      <th>7</th>\n",
              "      <td>2.8</td>\n",
              "      <td>70</td>\n",
              "      <td>181.6</td>\n",
              "      <td>278.7</td>\n",
              "      <td>181.8</td>\n",
              "      <td>279.8</td>\n",
              "      <td>181.7</td>\n",
              "      <td>280.6</td>\n",
              "    </tr>\n",
              "    <tr>\n",
              "      <th>8</th>\n",
              "      <td>3.2</td>\n",
              "      <td>80</td>\n",
              "      <td>181.5</td>\n",
              "      <td>286.0</td>\n",
              "      <td>181.8</td>\n",
              "      <td>287.0</td>\n",
              "      <td>181.6</td>\n",
              "      <td>288.4</td>\n",
              "    </tr>\n",
              "    <tr>\n",
              "      <th>9</th>\n",
              "      <td>3.6</td>\n",
              "      <td>90</td>\n",
              "      <td>181.4</td>\n",
              "      <td>293.6</td>\n",
              "      <td>181.6</td>\n",
              "      <td>294.4</td>\n",
              "      <td>181.6</td>\n",
              "      <td>294.7</td>\n",
              "    </tr>\n",
              "    <tr>\n",
              "      <th>10</th>\n",
              "      <td>4.0</td>\n",
              "      <td>100</td>\n",
              "      <td>181.4</td>\n",
              "      <td>300.9</td>\n",
              "      <td>181.6</td>\n",
              "      <td>301.8</td>\n",
              "      <td>181.5</td>\n",
              "      <td>298.8</td>\n",
              "    </tr>\n",
              "    <tr>\n",
              "      <th>11</th>\n",
              "      <td>4.4</td>\n",
              "      <td>110</td>\n",
              "      <td>181.3</td>\n",
              "      <td>307.8</td>\n",
              "      <td>181.5</td>\n",
              "      <td>309.0</td>\n",
              "      <td>181.4</td>\n",
              "      <td>309.0</td>\n",
              "    </tr>\n",
              "    <tr>\n",
              "      <th>12</th>\n",
              "      <td>4.8</td>\n",
              "      <td>120</td>\n",
              "      <td>181.2</td>\n",
              "      <td>314.6</td>\n",
              "      <td>181.4</td>\n",
              "      <td>315.8</td>\n",
              "      <td>181.4</td>\n",
              "      <td>315.4</td>\n",
              "    </tr>\n",
              "    <tr>\n",
              "      <th>13</th>\n",
              "      <td>5.2</td>\n",
              "      <td>130</td>\n",
              "      <td>181.2</td>\n",
              "      <td>321.6</td>\n",
              "      <td>181.3</td>\n",
              "      <td>322.6</td>\n",
              "      <td>181.3</td>\n",
              "      <td>322.6</td>\n",
              "    </tr>\n",
              "    <tr>\n",
              "      <th>14</th>\n",
              "      <td>5.6</td>\n",
              "      <td>140</td>\n",
              "      <td>181.1</td>\n",
              "      <td>328.5</td>\n",
              "      <td>181.3</td>\n",
              "      <td>329.6</td>\n",
              "      <td>181.2</td>\n",
              "      <td>327.7</td>\n",
              "    </tr>\n",
              "    <tr>\n",
              "      <th>15</th>\n",
              "      <td>6.0</td>\n",
              "      <td>150</td>\n",
              "      <td>181.1</td>\n",
              "      <td>335.5</td>\n",
              "      <td>181.2</td>\n",
              "      <td>336.3</td>\n",
              "      <td>181.1</td>\n",
              "      <td>336.0</td>\n",
              "    </tr>\n",
              "  </tbody>\n",
              "</table>\n",
              "</div>"
            ],
            "text/plain": [
              "    $V_t (mV)$  $\\Delta T (^oC)$  ...  $I_3 (mA)$  $V_3 (mV)$\n",
              "0          0.0                 0  ...       182.3       226.7\n",
              "1          0.4                10  ...       182.2       234.1\n",
              "2          0.8                20  ...       182.1       242.7\n",
              "3          1.2                30  ...       182.0       250.7\n",
              "4          1.6                40  ...       182.0       259.0\n",
              "5          2.0                50  ...       181.9       266.6\n",
              "6          2.4                60  ...       181.8       274.2\n",
              "7          2.8                70  ...       181.7       280.6\n",
              "8          3.2                80  ...       181.6       288.4\n",
              "9          3.6                90  ...       181.6       294.7\n",
              "10         4.0               100  ...       181.5       298.8\n",
              "11         4.4               110  ...       181.4       309.0\n",
              "12         4.8               120  ...       181.4       315.4\n",
              "13         5.2               130  ...       181.3       322.6\n",
              "14         5.6               140  ...       181.2       327.7\n",
              "15         6.0               150  ...       181.1       336.0\n",
              "\n",
              "[16 rows x 8 columns]"
            ]
          },
          "metadata": {
            "tags": []
          },
          "execution_count": 7
        }
      ]
    },
    {
      "cell_type": "markdown",
      "metadata": {
        "id": "YZgqybbqBLEf"
      },
      "source": [
        "Podemos agora fazer os valores médios para estas correntes e tensões em cada variação de temperatura.\n",
        "\n",
        "E aproveitar e introduzir o erro da temperatura, uma vez que este derivada da medição do erro do termopar."
      ]
    },
    {
      "cell_type": "code",
      "metadata": {
        "id": "bfeX-d3uBLEm",
        "colab": {
          "base_uri": "https://localhost:8080/"
        },
        "outputId": "1b42c037-1f5b-4eb2-a267-16da04969a47"
      },
      "source": [
        "#Erro da temperatura já em Kelvin\n",
        "t = (0.0001)*(10/0.0004)\n",
        "    \n",
        "t"
      ],
      "execution_count": null,
      "outputs": [
        {
          "output_type": "execute_result",
          "data": {
            "text/plain": [
              "2.5"
            ]
          },
          "metadata": {
            "tags": []
          },
          "execution_count": 9
        }
      ]
    },
    {
      "cell_type": "code",
      "metadata": {
        "colab": {
          "base_uri": "https://localhost:8080/",
          "height": 551
        },
        "id": "NhZ-AtmHBLEv",
        "outputId": "63ffb2a7-82f8-4469-8505-53835207c960"
      },
      "source": [
        "#Criando o dataframe pra média\n",
        "data_avg = pd.DataFrame()\n",
        "\n",
        "#Adicionando as colunas da temperatura, I e V médio\n",
        "data_avg['$\\Delta T (^oC)$'] = data_a2['$\\Delta T (^oC)$']\n",
        "data_avg['$\\overline{I} (mA)$'] = ((data_a2['$I_1 (mA)$'] + data_a2['$I_2 (mA)$'] + data_a2['$I_3 (mA)$'])/3).round(1)\n",
        "data_avg['$\\overline{V} (mV)$'] = ((data_a2['$V_1 (mV)$']+data_a2['$V_2 (mV)$']+data_a2['$V_3 (mV)$'])/3).round(1)\n",
        "data_avg"
      ],
      "execution_count": null,
      "outputs": [
        {
          "output_type": "execute_result",
          "data": {
            "text/html": [
              "<div>\n",
              "<style scoped>\n",
              "    .dataframe tbody tr th:only-of-type {\n",
              "        vertical-align: middle;\n",
              "    }\n",
              "\n",
              "    .dataframe tbody tr th {\n",
              "        vertical-align: top;\n",
              "    }\n",
              "\n",
              "    .dataframe thead th {\n",
              "        text-align: right;\n",
              "    }\n",
              "</style>\n",
              "<table border=\"1\" class=\"dataframe\">\n",
              "  <thead>\n",
              "    <tr style=\"text-align: right;\">\n",
              "      <th></th>\n",
              "      <th>$\\Delta T (^oC)$</th>\n",
              "      <th>$\\overline{I} (mA)$</th>\n",
              "      <th>$\\overline{V} (mV)$</th>\n",
              "    </tr>\n",
              "  </thead>\n",
              "  <tbody>\n",
              "    <tr>\n",
              "      <th>0</th>\n",
              "      <td>0</td>\n",
              "      <td>182.1</td>\n",
              "      <td>224.4</td>\n",
              "    </tr>\n",
              "    <tr>\n",
              "      <th>1</th>\n",
              "      <td>10</td>\n",
              "      <td>182.0</td>\n",
              "      <td>232.8</td>\n",
              "    </tr>\n",
              "    <tr>\n",
              "      <th>2</th>\n",
              "      <td>20</td>\n",
              "      <td>182.0</td>\n",
              "      <td>240.9</td>\n",
              "    </tr>\n",
              "    <tr>\n",
              "      <th>3</th>\n",
              "      <td>30</td>\n",
              "      <td>182.0</td>\n",
              "      <td>249.0</td>\n",
              "    </tr>\n",
              "    <tr>\n",
              "      <th>4</th>\n",
              "      <td>40</td>\n",
              "      <td>181.9</td>\n",
              "      <td>257.5</td>\n",
              "    </tr>\n",
              "    <tr>\n",
              "      <th>5</th>\n",
              "      <td>50</td>\n",
              "      <td>181.9</td>\n",
              "      <td>265.0</td>\n",
              "    </tr>\n",
              "    <tr>\n",
              "      <th>6</th>\n",
              "      <td>60</td>\n",
              "      <td>181.8</td>\n",
              "      <td>272.9</td>\n",
              "    </tr>\n",
              "    <tr>\n",
              "      <th>7</th>\n",
              "      <td>70</td>\n",
              "      <td>181.7</td>\n",
              "      <td>279.7</td>\n",
              "    </tr>\n",
              "    <tr>\n",
              "      <th>8</th>\n",
              "      <td>80</td>\n",
              "      <td>181.6</td>\n",
              "      <td>287.1</td>\n",
              "    </tr>\n",
              "    <tr>\n",
              "      <th>9</th>\n",
              "      <td>90</td>\n",
              "      <td>181.5</td>\n",
              "      <td>294.2</td>\n",
              "    </tr>\n",
              "    <tr>\n",
              "      <th>10</th>\n",
              "      <td>100</td>\n",
              "      <td>181.5</td>\n",
              "      <td>300.5</td>\n",
              "    </tr>\n",
              "    <tr>\n",
              "      <th>11</th>\n",
              "      <td>110</td>\n",
              "      <td>181.4</td>\n",
              "      <td>308.6</td>\n",
              "    </tr>\n",
              "    <tr>\n",
              "      <th>12</th>\n",
              "      <td>120</td>\n",
              "      <td>181.3</td>\n",
              "      <td>315.3</td>\n",
              "    </tr>\n",
              "    <tr>\n",
              "      <th>13</th>\n",
              "      <td>130</td>\n",
              "      <td>181.3</td>\n",
              "      <td>322.3</td>\n",
              "    </tr>\n",
              "    <tr>\n",
              "      <th>14</th>\n",
              "      <td>140</td>\n",
              "      <td>181.2</td>\n",
              "      <td>328.6</td>\n",
              "    </tr>\n",
              "    <tr>\n",
              "      <th>15</th>\n",
              "      <td>150</td>\n",
              "      <td>181.1</td>\n",
              "      <td>335.9</td>\n",
              "    </tr>\n",
              "  </tbody>\n",
              "</table>\n",
              "</div>"
            ],
            "text/plain": [
              "    $\\Delta T (^oC)$  $\\overline{I} (mA)$  $\\overline{V} (mV)$\n",
              "0                  0                182.1                224.4\n",
              "1                 10                182.0                232.8\n",
              "2                 20                182.0                240.9\n",
              "3                 30                182.0                249.0\n",
              "4                 40                181.9                257.5\n",
              "5                 50                181.9                265.0\n",
              "6                 60                181.8                272.9\n",
              "7                 70                181.7                279.7\n",
              "8                 80                181.6                287.1\n",
              "9                 90                181.5                294.2\n",
              "10               100                181.5                300.5\n",
              "11               110                181.4                308.6\n",
              "12               120                181.3                315.3\n",
              "13               130                181.3                322.3\n",
              "14               140                181.2                328.6\n",
              "15               150                181.1                335.9"
            ]
          },
          "metadata": {
            "tags": []
          },
          "execution_count": 10
        }
      ]
    },
    {
      "cell_type": "markdown",
      "metadata": {
        "id": "Wk9_-GOEBLEx"
      },
      "source": [
        "## Resistência x Variação de Temperatura\n",
        "\n",
        "Na tabela abaixo podemos montar um relação entre a variação de temperatura em K, pela resitência média do material.\n",
        "\n",
        "ResitÊncia por sua vez se calcula com:\n",
        "\n",
        "\\begin{equation*}R=\\frac{V}{I}\\end{equation*}\n",
        "\n",
        "E esperamos pela teoria, que a resistência se comporte com a variação da temperatura de acordo com a equação:\n",
        "\n",
        "\\begin{equation*}R=R_0\\left[ 1+\\alpha \\Delta T\\right]\\end{equation*}"
      ]
    },
    {
      "cell_type": "code",
      "metadata": {
        "id": "vNP-a279BLE0"
      },
      "source": [
        "#Esta função calcula o erro da resistência\n",
        "#Aqui os valores foram passados de mA para A e mV para V\n",
        "def error_resist( i , v):\n",
        "    err = 0.1\n",
        "    term1 = (err*v) /(i**2)\n",
        "    term2 = (err)/(i)\n",
        "    \n",
        "    return term1 + term2"
      ],
      "execution_count": null,
      "outputs": []
    },
    {
      "cell_type": "code",
      "metadata": {
        "id": "nbCO9CftBLE7"
      },
      "source": [
        "#Criando dataframe para a condutividade\n",
        "data_resist = pd.DataFrame()\n",
        "\n",
        "#Criando a coluna da variação de temperatura copiando da tabela anterior \n",
        "data_resist['$\\Delta T (^oC)$'] = data_avg['$\\Delta T (^oC)$']\n",
        "\n",
        "#Criando coluna da resistência com base nos calculos acima\n",
        "data_resist['$R\\, (m\\Omega)$'] = 1000*(data_avg['$\\overline{I} (mA)$'] / (data_avg['$\\overline{V} (mV)$'])).round(4)\n",
        "\n",
        "#Criando a coluna com os erros da resistÊncia\n",
        "data_resist['$\\Delta R$'] = [ error_resist(i,v) for \n",
        "                                 i,v in zip(data_avg['$\\overline{I} (mA)$'] , \n",
        "                                                data_avg['$\\overline{V} (mV)$'])]\n",
        "data_resist['$\\Delta R$'] = 1000*data_resist['$\\Delta R$'].round(4)"
      ],
      "execution_count": null,
      "outputs": []
    },
    {
      "cell_type": "code",
      "metadata": {
        "colab": {
          "base_uri": "https://localhost:8080/",
          "height": 551
        },
        "id": "VXWXrxSKBLFM",
        "outputId": "2034d3dd-d471-48cd-bbc7-20c937c44ee9"
      },
      "source": [
        "data_resist"
      ],
      "execution_count": null,
      "outputs": [
        {
          "output_type": "execute_result",
          "data": {
            "text/html": [
              "<div>\n",
              "<style scoped>\n",
              "    .dataframe tbody tr th:only-of-type {\n",
              "        vertical-align: middle;\n",
              "    }\n",
              "\n",
              "    .dataframe tbody tr th {\n",
              "        vertical-align: top;\n",
              "    }\n",
              "\n",
              "    .dataframe thead th {\n",
              "        text-align: right;\n",
              "    }\n",
              "</style>\n",
              "<table border=\"1\" class=\"dataframe\">\n",
              "  <thead>\n",
              "    <tr style=\"text-align: right;\">\n",
              "      <th></th>\n",
              "      <th>$\\Delta T (^oC)$</th>\n",
              "      <th>$R\\, (m\\Omega)$</th>\n",
              "      <th>$\\Delta R$</th>\n",
              "    </tr>\n",
              "  </thead>\n",
              "  <tbody>\n",
              "    <tr>\n",
              "      <th>0</th>\n",
              "      <td>0</td>\n",
              "      <td>811.5</td>\n",
              "      <td>1.2</td>\n",
              "    </tr>\n",
              "    <tr>\n",
              "      <th>1</th>\n",
              "      <td>10</td>\n",
              "      <td>781.8</td>\n",
              "      <td>1.3</td>\n",
              "    </tr>\n",
              "    <tr>\n",
              "      <th>2</th>\n",
              "      <td>20</td>\n",
              "      <td>755.5</td>\n",
              "      <td>1.3</td>\n",
              "    </tr>\n",
              "    <tr>\n",
              "      <th>3</th>\n",
              "      <td>30</td>\n",
              "      <td>730.9</td>\n",
              "      <td>1.3</td>\n",
              "    </tr>\n",
              "    <tr>\n",
              "      <th>4</th>\n",
              "      <td>40</td>\n",
              "      <td>706.4</td>\n",
              "      <td>1.3</td>\n",
              "    </tr>\n",
              "    <tr>\n",
              "      <th>5</th>\n",
              "      <td>50</td>\n",
              "      <td>686.4</td>\n",
              "      <td>1.4</td>\n",
              "    </tr>\n",
              "    <tr>\n",
              "      <th>6</th>\n",
              "      <td>60</td>\n",
              "      <td>666.2</td>\n",
              "      <td>1.4</td>\n",
              "    </tr>\n",
              "    <tr>\n",
              "      <th>7</th>\n",
              "      <td>70</td>\n",
              "      <td>649.6</td>\n",
              "      <td>1.4</td>\n",
              "    </tr>\n",
              "    <tr>\n",
              "      <th>8</th>\n",
              "      <td>80</td>\n",
              "      <td>632.5</td>\n",
              "      <td>1.4</td>\n",
              "    </tr>\n",
              "    <tr>\n",
              "      <th>9</th>\n",
              "      <td>90</td>\n",
              "      <td>616.9</td>\n",
              "      <td>1.4</td>\n",
              "    </tr>\n",
              "    <tr>\n",
              "      <th>10</th>\n",
              "      <td>100</td>\n",
              "      <td>604.0</td>\n",
              "      <td>1.5</td>\n",
              "    </tr>\n",
              "    <tr>\n",
              "      <th>11</th>\n",
              "      <td>110</td>\n",
              "      <td>587.8</td>\n",
              "      <td>1.5</td>\n",
              "    </tr>\n",
              "    <tr>\n",
              "      <th>12</th>\n",
              "      <td>120</td>\n",
              "      <td>575.0</td>\n",
              "      <td>1.5</td>\n",
              "    </tr>\n",
              "    <tr>\n",
              "      <th>13</th>\n",
              "      <td>130</td>\n",
              "      <td>562.5</td>\n",
              "      <td>1.5</td>\n",
              "    </tr>\n",
              "    <tr>\n",
              "      <th>14</th>\n",
              "      <td>140</td>\n",
              "      <td>551.4</td>\n",
              "      <td>1.6</td>\n",
              "    </tr>\n",
              "    <tr>\n",
              "      <th>15</th>\n",
              "      <td>150</td>\n",
              "      <td>539.1</td>\n",
              "      <td>1.6</td>\n",
              "    </tr>\n",
              "  </tbody>\n",
              "</table>\n",
              "</div>"
            ],
            "text/plain": [
              "    $\\Delta T (^oC)$  $R\\, (m\\Omega)$  $\\Delta R$\n",
              "0                  0            811.5         1.2\n",
              "1                 10            781.8         1.3\n",
              "2                 20            755.5         1.3\n",
              "3                 30            730.9         1.3\n",
              "4                 40            706.4         1.3\n",
              "5                 50            686.4         1.4\n",
              "6                 60            666.2         1.4\n",
              "7                 70            649.6         1.4\n",
              "8                 80            632.5         1.4\n",
              "9                 90            616.9         1.4\n",
              "10               100            604.0         1.5\n",
              "11               110            587.8         1.5\n",
              "12               120            575.0         1.5\n",
              "13               130            562.5         1.5\n",
              "14               140            551.4         1.6\n",
              "15               150            539.1         1.6"
            ]
          },
          "metadata": {
            "tags": []
          },
          "execution_count": 14
        }
      ]
    },
    {
      "cell_type": "code",
      "metadata": {
        "colab": {
          "base_uri": "https://localhost:8080/",
          "height": 484
        },
        "id": "WqC3YkDABLF0",
        "outputId": "b9510b6f-7a2e-4082-87f8-a891d32bcfeb"
      },
      "source": [
        "fig1, ax1 = plt.subplots(figsize=(10,7))\n",
        "\n",
        "#Plotando os dados em si\n",
        "ax1.plot(data_resist['$\\Delta T (^oC)$'], \n",
        "         data_resist['$R\\, (m\\Omega)$'], label='Resistência Cu',\n",
        "         c='k')\n",
        "\n",
        "#Plotando a sombra de erro\n",
        "ax1.fill_between(data_resist['$\\Delta T (^oC)$'], \n",
        "                 data_resist['$R\\, (m\\Omega)$']-5*data_resist['$\\Delta R$'], \n",
        "                 data_resist['$R\\, (m\\Omega)$']+5*data_resist['$\\Delta R$'], alpha=0.5 , label='Erro')\n",
        "\n",
        "#Adicionando titulo e legenda\n",
        "ax1.set_title('Resistência x Variação de Temperatura')\n",
        "ax1.set_xlabel('Variação de Temperatura $(^oC$)')\n",
        "ax1.set_ylabel('Resistência ($m\\Omega$)')\n",
        "\n",
        "ax1.legend(loc=0)"
      ],
      "execution_count": null,
      "outputs": [
        {
          "output_type": "execute_result",
          "data": {
            "text/plain": [
              "<matplotlib.legend.Legend at 0x7fa7ed49ea50>"
            ]
          },
          "metadata": {
            "tags": []
          },
          "execution_count": 24
        },
        {
          "output_type": "display_data",
          "data": {
            "image/png": "[encoded data removed]",
            "text/plain": [
              "<Figure size 720x504 with 1 Axes>"
            ]
          },
          "metadata": {
            "tags": []
          }
        }
      ]
    },
    {
      "cell_type": "markdown",
      "metadata": {
        "id": "UwU5moy37eec"
      },
      "source": [
        "## Linearização\n",
        "\n",
        "Como vemos os dados representam de forma bem satisfatória o comportamento de um reta.\n",
        "\n",
        "Para descobrirmos os valores dos coeficientes previstos pela teoria:\n",
        "\n",
        "\\begin{equation*}R=R_0+\\alpha R_0 \\Delta T\\end{equation*}\n",
        "\n",
        "Vamos utilizar estes dados para obtermos uma reta por regressão linear da forma:\n",
        "\n",
        "\\begin{equation*}R=A + B \\Delta T\\end{equation*}"
      ]
    },
    {
      "cell_type": "code",
      "metadata": {
        "colab": {
          "base_uri": "https://localhost:8080/",
          "height": 506
        },
        "id": "U17jES6A8Z0Y",
        "outputId": "5f63642a-ca78-45e8-f755-b4062752724c"
      },
      "source": [
        "x = data_resist['$\\Delta T (^oC)$']\n",
        "X = sm.add_constant(data_resist['$\\Delta T (^oC)$'])\n",
        "y = data_resist['$R\\, (m\\Omega)$']\n",
        "\n",
        "reta = sm.OLS(y,X).fit()\n",
        "y_predicted = reta.predict(X)\n",
        "\n",
        "reta.summary()"
      ],
      "execution_count": null,
      "outputs": [
        {
          "output_type": "stream",
          "text": [
            "/usr/local/lib/python3.7/dist-packages/scipy/stats/stats.py:1535: UserWarning: kurtosistest only valid for n>=20 ... continuing anyway, n=16\n",
            "  \"anyway, n=%i\" % int(n))\n"
          ],
          "name": "stderr"
        },
        {
          "output_type": "execute_result",
          "data": {
            "text/html": [
              "<table class=\"simpletable\">\n",
              "<caption>OLS Regression Results</caption>\n",
              "<tr>\n",
              "  <th>Dep. Variable:</th>     <td>$R\\, (m\\Omega)$</td> <th>  R-squared:         </th> <td>   0.979</td>\n",
              "</tr>\n",
              "<tr>\n",
              "  <th>Model:</th>                   <td>OLS</td>       <th>  Adj. R-squared:    </th> <td>   0.978</td>\n",
              "</tr>\n",
              "<tr>\n",
              "  <th>Method:</th>             <td>Least Squares</td>  <th>  F-statistic:       </th> <td>   663.1</td>\n",
              "</tr>\n",
              "<tr>\n",
              "  <th>Date:</th>             <td>Thu, 11 Mar 2021</td> <th>  Prob (F-statistic):</th> <td>3.41e-13</td>\n",
              "</tr>\n",
              "<tr>\n",
              "  <th>Time:</th>                 <td>21:34:03</td>     <th>  Log-Likelihood:    </th> <td> -62.239</td>\n",
              "</tr>\n",
              "<tr>\n",
              "  <th>No. Observations:</th>      <td>    16</td>      <th>  AIC:               </th> <td>   128.5</td>\n",
              "</tr>\n",
              "<tr>\n",
              "  <th>Df Residuals:</th>          <td>    14</td>      <th>  BIC:               </th> <td>   130.0</td>\n",
              "</tr>\n",
              "<tr>\n",
              "  <th>Df Model:</th>              <td>     1</td>      <th>                     </th>     <td> </td>   \n",
              "</tr>\n",
              "<tr>\n",
              "  <th>Covariance Type:</th>      <td>nonrobust</td>    <th>                     </th>     <td> </td>   \n",
              "</tr>\n",
              "</table>\n",
              "<table class=\"simpletable\">\n",
              "<tr>\n",
              "          <td></td>            <th>coef</th>     <th>std err</th>      <th>t</th>      <th>P>|t|</th>  <th>[0.025</th>    <th>0.975]</th>  \n",
              "</tr>\n",
              "<tr>\n",
              "  <th>const</th>            <td>  786.1066</td> <td>    6.040</td> <td>  130.148</td> <td> 0.000</td> <td>  773.152</td> <td>  799.061</td>\n",
              "</tr>\n",
              "<tr>\n",
              "  <th>$\\Delta T (^oC)$</th> <td>   -1.7668</td> <td>    0.069</td> <td>  -25.752</td> <td> 0.000</td> <td>   -1.914</td> <td>   -1.620</td>\n",
              "</tr>\n",
              "</table>\n",
              "<table class=\"simpletable\">\n",
              "<tr>\n",
              "  <th>Omnibus:</th>       <td> 1.816</td> <th>  Durbin-Watson:     </th> <td>   0.214</td>\n",
              "</tr>\n",
              "<tr>\n",
              "  <th>Prob(Omnibus):</th> <td> 0.403</td> <th>  Jarque-Bera (JB):  </th> <td>   1.460</td>\n",
              "</tr>\n",
              "<tr>\n",
              "  <th>Skew:</th>          <td> 0.635</td> <th>  Prob(JB):          </th> <td>   0.482</td>\n",
              "</tr>\n",
              "<tr>\n",
              "  <th>Kurtosis:</th>      <td> 2.240</td> <th>  Cond. No.          </th> <td>    168.</td>\n",
              "</tr>\n",
              "</table><br/><br/>Warnings:<br/>[1] Standard Errors assume that the covariance matrix of the errors is correctly specified."
            ],
            "text/plain": [
              "<class 'statsmodels.iolib.summary.Summary'>\n",
              "\"\"\"\n",
              "                            OLS Regression Results                            \n",
              "==============================================================================\n",
              "Dep. Variable:        $R\\, (m\\Omega)$   R-squared:                       0.979\n",
              "Model:                            OLS   Adj. R-squared:                  0.978\n",
              "Method:                 Least Squares   F-statistic:                     663.1\n",
              "Date:                Thu, 11 Mar 2021   Prob (F-statistic):           3.41e-13\n",
              "Time:                        21:34:03   Log-Likelihood:                -62.239\n",
              "No. Observations:                  16   AIC:                             128.5\n",
              "Df Residuals:                      14   BIC:                             130.0\n",
              "Df Model:                           1                                         \n",
              "Covariance Type:            nonrobust                                         \n",
              "====================================================================================\n",
              "                       coef    std err          t      P>|t|      [0.025      0.975]\n",
              "------------------------------------------------------------------------------------\n",
              "const              786.1066      6.040    130.148      0.000     773.152     799.061\n",
              "$\\Delta T (^oC)$    -1.7668      0.069    -25.752      0.000      -1.914      -1.620\n",
              "==============================================================================\n",
              "Omnibus:                        1.816   Durbin-Watson:                   0.214\n",
              "Prob(Omnibus):                  0.403   Jarque-Bera (JB):                1.460\n",
              "Skew:                           0.635   Prob(JB):                        0.482\n",
              "Kurtosis:                       2.240   Cond. No.                         168.\n",
              "==============================================================================\n",
              "\n",
              "Warnings:\n",
              "[1] Standard Errors assume that the covariance matrix of the errors is correctly specified.\n",
              "\"\"\""
            ]
          },
          "metadata": {
            "tags": []
          },
          "execution_count": 17
        }
      ]
    },
    {
      "cell_type": "code",
      "metadata": {
        "colab": {
          "base_uri": "https://localhost:8080/",
          "height": 484
        },
        "id": "NFFhF7Dx-Ykt",
        "outputId": "6cd469f8-4a8c-4528-c77a-f1e67c0eacc5"
      },
      "source": [
        "fig2, ax2 = plt.subplots(figsize=(10,7))\n",
        "\n",
        "ax2.plot(data_resist['$\\Delta T (^oC)$'],y_predicted.values, label='Reta da Regressão', c='g')\n",
        "\n",
        "ax2.fill_between(data_resist['$\\Delta T (^oC)$'], \n",
        "                 y_predicted-reta.bse[0], \n",
        "                 y_predicted+reta.bse[0], alpha=0.5 , label='Desvio Padrão da Regressão')\n",
        "\n",
        "\n",
        "#Plotando os dados em si\n",
        "ax2.scatter(data_resist['$\\Delta T (^oC)$'], \n",
        "         data_resist['$R\\, (m\\Omega)$'], label='Pontos Experimentais',\n",
        "         c='k')\n",
        "\n",
        "#Adicionando titulo e legenda\n",
        "ax2.set_title('Resistência x Variação de Temperatura')\n",
        "ax2.set_xlabel('Variação de Temperatura $(^oC$)')\n",
        "ax2.set_ylabel('Resistência ($m\\Omega$)')\n",
        "\n",
        "ax2.legend(loc=0)"
      ],
      "execution_count": null,
      "outputs": [
        {
          "output_type": "execute_result",
          "data": {
            "text/plain": [
              "<matplotlib.legend.Legend at 0x7fa7ed3aebd0>"
            ]
          },
          "metadata": {
            "tags": []
          },
          "execution_count": 26
        },
        {
          "output_type": "display_data",
          "data": {
            "image/png": "[encoded data removed]",
            "text/plain": [
              "<Figure size 720x504 with 1 Axes>"
            ]
          },
          "metadata": {
            "tags": []
          }
        }
      ]
    },
    {
      "cell_type": "markdown",
      "metadata": {
        "id": "ZQLdEsFAD1Iz"
      },
      "source": [
        "Assim obtemos a reta da regressão dada por:\n",
        "\n",
        "\\begin{equation*}R=(786\\pm 6) - (1.77 \\pm 0.07) \\Delta T\\end{equation*}\n",
        "\n",
        "E comparando com a equação da teoria, temos que:\n",
        "\n",
        "\\begin{equation*}R_0 = 786 \\pm 6\\end{equation*}\n",
        "\n",
        "\\begin{equation*}\\alpha R_0 = - 1.77 \\pm 0.07\\end{equation*}\n",
        "\n",
        "Onde utilizando este valores podemos descobrir $\\alpha$:\n",
        "\n",
        "\\begin{equation*}\\alpha = - \\frac{1.77}{786}\\end{equation*}\n",
        "\\begin{equation*}\\alpha = - 0.0023 \\pm 0.0001\\end{equation*}"
      ]
    }
  ]
}